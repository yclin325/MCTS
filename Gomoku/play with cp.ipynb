{
 "cells": [
  {
   "cell_type": "code",
   "execution_count": 7,
   "metadata": {},
   "outputs": [],
   "source": [
    "import numpy as np\n",
    "from mcts.nodes import *\n",
    "from mcts.search import MonteCarloTreeSearch\n",
    "from gomoku import GomokuGameState"
   ]
  },
  {
   "cell_type": "code",
   "execution_count": 8,
   "metadata": {},
   "outputs": [],
   "source": [
    "def init():\n",
    "    state = np.zeros((7, 7))\n",
    "    initial_board_state = GomokuGameState(state=state, next_to_move=1)\n",
    "    root = MonteCarloTreeSearchNode(state=initial_board_state, parent=None)\n",
    "    mcts = MonteCarloTreeSearch(root)\n",
    "    best_node = mcts.best_action(1000)\n",
    "    c_state = best_node.state\n",
    "    c_board = c_state.board\n",
    "    return c_state,c_board\n",
    "\n",
    "\n",
    "def graphics(board):\n",
    "    for i in range(7):\n",
    "        print(\"\")\n",
    "        print(\"{0:3}\".format(i).center(8)+\"|\", end='')\n",
    "        for j in range(7):\n",
    "            if c_board[i][j] == 0:\n",
    "                print('_'.center(8), end='')\n",
    "            if c_board[i][j] == 1:\n",
    "                print('X'.center(8), end='')\n",
    "            if c_board[i][j] == -1:\n",
    "                print('O'.center(8), end='')\n",
    "    print(\"\")\n",
    "    print(\"______________________________\")\n",
    "\n",
    "\n",
    "def get_action(state):\n",
    "    try:\n",
    "        location = input(\"Your move(type:x,y): \")\n",
    "        if isinstance(location, str):\n",
    "            location = [int(n, 10) for n in location.split(\",\")]\n",
    "        if len(location) != 2:\n",
    "            return -1\n",
    "        x = location[0]\n",
    "        y = location[1]\n",
    "        move = GomokuMove(x, y, -1)\n",
    "    except Exception as e:\n",
    "        move = -1\n",
    "    if move == -1 or not state.is_move_legal(move):\n",
    "        print(\"invalid move\")\n",
    "        move = get_action(state)\n",
    "    return move\n",
    "\n",
    "\n",
    "def judge(state):\n",
    "    if state.is_game_over():\n",
    "        if state.game_result == 1.0:\n",
    "            print(\"You lose!\")\n",
    "        if state.game_result == 0.0:\n",
    "            print(\"Tie!\")\n",
    "        if state.game_result == -1.0:\n",
    "            print(\"You Win!\")\n",
    "        return 1\n",
    "    else:\n",
    "        return -1"
   ]
  },
  {
   "cell_type": "code",
   "execution_count": 9,
   "metadata": {},
   "outputs": [
    {
     "name": "stdout",
     "output_type": "stream",
     "text": [
      "\n",
      "    0   |   _       _       _       _       _       _       _    \n",
      "    1   |   _       _       _       _       _       _       _    \n",
      "    2   |   _       _       _       _       _       _       _    \n",
      "    3   |   _       _       _       _       _       X       _    \n",
      "    4   |   _       _       _       _       _       _       _    \n",
      "    5   |   _       _       _       _       _       _       _    \n",
      "    6   |   _       _       _       _       _       _       _    \n",
      "______________________________\n",
      "Your move(type:x,y): 0,0\n",
      "\n",
      "    0   |   O       _       _       _       _       _       _    \n",
      "    1   |   _       _       _       _       _       _       _    \n",
      "    2   |   _       _       _       _       _       _       _    \n",
      "    3   |   _       _       _       _       _       X       _    \n",
      "    4   |   _       _       _       _       _       _       _    \n",
      "    5   |   _       _       _       _       _       _       _    \n",
      "    6   |   _       _       _       _       _       _       _    \n",
      "______________________________\n",
      "\n",
      "    0   |   O       X       _       _       _       _       _    \n",
      "    1   |   _       _       _       _       _       _       _    \n",
      "    2   |   _       _       _       _       _       _       _    \n",
      "    3   |   _       _       _       _       _       X       _    \n",
      "    4   |   _       _       _       _       _       _       _    \n",
      "    5   |   _       _       _       _       _       _       _    \n",
      "    6   |   _       _       _       _       _       _       _    \n",
      "______________________________\n",
      "Your move(type:x,y): 00\n"
     ]
    },
    {
     "ename": "AttributeError",
     "evalue": "'int' object has no attribute 'value'",
     "output_type": "error",
     "traceback": [
      "\u001b[1;31m---------------------------------------------------------------------------\u001b[0m",
      "\u001b[1;31mAttributeError\u001b[0m                            Traceback (most recent call last)",
      "\u001b[1;32m<ipython-input-9-382af9e42ee9>\u001b[0m in \u001b[0;36m<module>\u001b[1;34m\u001b[0m\n\u001b[0;32m      5\u001b[0m \u001b[1;32mwhile\u001b[0m \u001b[1;32mTrue\u001b[0m\u001b[1;33m:\u001b[0m\u001b[1;33m\u001b[0m\u001b[1;33m\u001b[0m\u001b[0m\n\u001b[0;32m      6\u001b[0m     \u001b[0mmove1\u001b[0m \u001b[1;33m=\u001b[0m \u001b[0mget_action\u001b[0m\u001b[1;33m(\u001b[0m\u001b[0mc_state\u001b[0m\u001b[1;33m)\u001b[0m\u001b[1;33m\u001b[0m\u001b[1;33m\u001b[0m\u001b[0m\n\u001b[1;32m----> 7\u001b[1;33m     \u001b[0mc_state\u001b[0m \u001b[1;33m=\u001b[0m \u001b[0mc_state\u001b[0m\u001b[1;33m.\u001b[0m\u001b[0mmove\u001b[0m\u001b[1;33m(\u001b[0m\u001b[0mmove1\u001b[0m\u001b[1;33m)\u001b[0m\u001b[1;33m\u001b[0m\u001b[1;33m\u001b[0m\u001b[0m\n\u001b[0m\u001b[0;32m      8\u001b[0m     \u001b[0mc_board\u001b[0m \u001b[1;33m=\u001b[0m \u001b[0mc_state\u001b[0m\u001b[1;33m.\u001b[0m\u001b[0mboard\u001b[0m\u001b[1;33m\u001b[0m\u001b[1;33m\u001b[0m\u001b[0m\n\u001b[0;32m      9\u001b[0m     \u001b[0mgraphics\u001b[0m\u001b[1;33m(\u001b[0m\u001b[0mc_board\u001b[0m\u001b[1;33m)\u001b[0m\u001b[1;33m\u001b[0m\u001b[1;33m\u001b[0m\u001b[0m\n",
      "\u001b[1;32m~\\NCUMA\\Gomoku\\gomoku.py\u001b[0m in \u001b[0;36mmove\u001b[1;34m(self, move)\u001b[0m\n\u001b[0;32m    143\u001b[0m \u001b[1;33m\u001b[0m\u001b[0m\n\u001b[0;32m    144\u001b[0m     \u001b[1;32mdef\u001b[0m \u001b[0mmove\u001b[0m\u001b[1;33m(\u001b[0m\u001b[0mself\u001b[0m\u001b[1;33m,\u001b[0m \u001b[0mmove\u001b[0m\u001b[1;33m)\u001b[0m\u001b[1;33m:\u001b[0m\u001b[1;33m\u001b[0m\u001b[1;33m\u001b[0m\u001b[0m\n\u001b[1;32m--> 145\u001b[1;33m         \u001b[1;32mif\u001b[0m \u001b[1;32mnot\u001b[0m \u001b[0mself\u001b[0m\u001b[1;33m.\u001b[0m\u001b[0mis_move_legal\u001b[0m\u001b[1;33m(\u001b[0m\u001b[0mmove\u001b[0m\u001b[1;33m)\u001b[0m\u001b[1;33m:\u001b[0m\u001b[1;33m\u001b[0m\u001b[1;33m\u001b[0m\u001b[0m\n\u001b[0m\u001b[0;32m    146\u001b[0m             \u001b[1;32mraise\u001b[0m \u001b[0mValueError\u001b[0m\u001b[1;33m(\u001b[0m\u001b[1;34m\"move \"\u001b[0m \u001b[1;33m+\u001b[0m \u001b[0mmove\u001b[0m \u001b[1;33m+\u001b[0m \u001b[1;34m\" on board \"\u001b[0m \u001b[1;33m+\u001b[0m \u001b[0mself\u001b[0m\u001b[1;33m.\u001b[0m\u001b[0mboard\u001b[0m \u001b[1;33m+\u001b[0m \u001b[1;34m\" is not legal\"\u001b[0m\u001b[1;33m)\u001b[0m\u001b[1;33m\u001b[0m\u001b[1;33m\u001b[0m\u001b[0m\n\u001b[0;32m    147\u001b[0m         \u001b[0mnew_board\u001b[0m \u001b[1;33m=\u001b[0m \u001b[0mnp\u001b[0m\u001b[1;33m.\u001b[0m\u001b[0mcopy\u001b[0m\u001b[1;33m(\u001b[0m\u001b[0mself\u001b[0m\u001b[1;33m.\u001b[0m\u001b[0mboard\u001b[0m\u001b[1;33m)\u001b[0m\u001b[1;33m\u001b[0m\u001b[1;33m\u001b[0m\u001b[0m\n",
      "\u001b[1;32m~\\NCUMA\\Gomoku\\gomoku.py\u001b[0m in \u001b[0;36mis_move_legal\u001b[1;34m(self, move)\u001b[0m\n\u001b[0;32m    126\u001b[0m     \u001b[1;32mdef\u001b[0m \u001b[0mis_move_legal\u001b[0m\u001b[1;33m(\u001b[0m\u001b[0mself\u001b[0m\u001b[1;33m,\u001b[0m \u001b[0mmove\u001b[0m\u001b[1;33m)\u001b[0m\u001b[1;33m:\u001b[0m\u001b[1;33m\u001b[0m\u001b[1;33m\u001b[0m\u001b[0m\n\u001b[0;32m    127\u001b[0m         \u001b[1;31m# check if correct player moves\u001b[0m\u001b[1;33m\u001b[0m\u001b[1;33m\u001b[0m\u001b[1;33m\u001b[0m\u001b[0m\n\u001b[1;32m--> 128\u001b[1;33m         \u001b[1;32mif\u001b[0m \u001b[0mmove\u001b[0m\u001b[1;33m.\u001b[0m\u001b[0mvalue\u001b[0m \u001b[1;33m!=\u001b[0m \u001b[0mself\u001b[0m\u001b[1;33m.\u001b[0m\u001b[0mnext_to_move\u001b[0m\u001b[1;33m:\u001b[0m\u001b[1;33m\u001b[0m\u001b[1;33m\u001b[0m\u001b[0m\n\u001b[0m\u001b[0;32m    129\u001b[0m             \u001b[1;32mreturn\u001b[0m \u001b[1;32mFalse\u001b[0m\u001b[1;33m\u001b[0m\u001b[1;33m\u001b[0m\u001b[0m\n\u001b[0;32m    130\u001b[0m \u001b[1;33m\u001b[0m\u001b[0m\n",
      "\u001b[1;31mAttributeError\u001b[0m: 'int' object has no attribute 'value'"
     ]
    }
   ],
   "source": [
    "c_state,c_board = init()\n",
    "graphics(c_board)\n",
    "\n",
    "\n",
    "while True:\n",
    "    move1 = get_action(c_state)\n",
    "    c_state = c_state.move(move1)\n",
    "    c_board = c_state.board\n",
    "    graphics(c_board)\n",
    "\n",
    "    board_state = GomokuGameState(state=c_board, next_to_move=1)\n",
    "    root = MonteCarloTreeSearchNode(state=board_state, parent=None)\n",
    "    mcts = MonteCarloTreeSearch(root)\n",
    "    best_node = mcts.best_action(1000)\n",
    "    c_state = best_node.state\n",
    "    c_board = c_state.board\n",
    "    graphics(c_board)\n",
    "    if judge(c_state)==1:\n",
    "        break\n",
    "    elif judge(c_state)==-1:\n",
    "        continue\n"
   ]
  },
  {
   "cell_type": "code",
   "execution_count": null,
   "metadata": {},
   "outputs": [],
   "source": []
  }
 ],
 "metadata": {
  "kernelspec": {
   "display_name": "Python 3",
   "language": "python",
   "name": "python3"
  },
  "language_info": {
   "codemirror_mode": {
    "name": "ipython",
    "version": 3
   },
   "file_extension": ".py",
   "mimetype": "text/x-python",
   "name": "python",
   "nbconvert_exporter": "python",
   "pygments_lexer": "ipython3",
   "version": "3.7.4"
  }
 },
 "nbformat": 4,
 "nbformat_minor": 2
}

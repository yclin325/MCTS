{
 "cells": [
  {
   "cell_type": "code",
   "execution_count": 1,
   "metadata": {},
   "outputs": [],
   "source": [
    "import numpy as np\n",
    "from mcts.nodes import *\n",
    "from mcts.search import MonteCarloTreeSearch\n",
    "from knight import *\n",
    "from IPython.display import clear_output\n",
    "\n",
    "\n",
    "def graphics(board):\n",
    "    for i in range(8):\n",
    "        for j in range(8):\n",
    "            print('%2d'%c_board[j,i],end='')\n",
    "        print()\n",
    "\n",
    "\n",
    "\n",
    "def judge(state):\n",
    "    if state.is_game_over():\n",
    "        print('over')\n",
    "        return 1\n",
    "    else:\n",
    "        return -1\n"
   ]
  },
  {
   "cell_type": "code",
   "execution_count": 2,
   "metadata": {},
   "outputs": [
    {
     "name": "stdout",
     "output_type": "stream",
     "text": [
      "step =  32\n",
      "over\n"
     ]
    }
   ],
   "source": [
    "#c_state,c_board = init()\n",
    "#graphics(c_board)\n",
    "state=np.zeros((8,8))\n",
    "#a[3,4]=1\n",
    "c_state= knightGameState(state, 1)\n",
    "c_board = state\n",
    "move1 = knightMove(0,0,1)\n",
    "c_state = c_state.move(move1)\n",
    "c_board = c_state.board\n",
    "print('step = ',1)\n",
    "i=2\n",
    "while True:\n",
    "    clear_output(wait=True)\n",
    "    print('step = ',i)\n",
    "    board_state = knightGameState(state=c_board, next_to_move=i)\n",
    "    root = MonteCarloTreeSearchNode(state=board_state, parent=None)\n",
    "    mcts = MonteCarloTreeSearch(root)\n",
    "    best_node = mcts.best_action(100000)\n",
    "    c_state = best_node.state\n",
    "    c_board = c_state.board\n",
    "    i+=1\n",
    "    \n",
    "    #graphics(c_board)\n",
    "    if judge(c_state)==1:\n",
    "        break\n",
    "    elif judge(c_state)==-1:\n",
    "        continue\n",
    "    "
   ]
  },
  {
   "cell_type": "code",
   "execution_count": 3,
   "metadata": {},
   "outputs": [
    {
     "data": {
      "text/plain": [
       "array([[ 1., 10.,  0., 26.,  0.,  0.,  0.,  0.],\n",
       "       [ 8., 27., 24.,  0.,  0.,  0.,  0.,  0.],\n",
       "       [11.,  2.,  9.,  0., 25.,  0.,  0.,  0.],\n",
       "       [16.,  7., 28., 23.,  0.,  0.,  0.,  0.],\n",
       "       [ 3., 12., 17.,  0.,  0.,  0.,  0.,  0.],\n",
       "       [18., 15.,  6., 29., 22.,  0.,  0.,  0.],\n",
       "       [13.,  4., 31., 20.,  0.,  0.,  0.,  0.],\n",
       "       [32., 19., 14.,  5., 30., 21.,  0.,  0.]])"
      ]
     },
     "execution_count": 3,
     "metadata": {},
     "output_type": "execute_result"
    }
   ],
   "source": [
    "c_state.board"
   ]
  }
 ],
 "metadata": {
  "kernelspec": {
   "display_name": "Python 3",
   "language": "python",
   "name": "python3"
  },
  "language_info": {
   "codemirror_mode": {
    "name": "ipython",
    "version": 3
   },
   "file_extension": ".py",
   "mimetype": "text/x-python",
   "name": "python",
   "nbconvert_exporter": "python",
   "pygments_lexer": "ipython3",
   "version": "3.7.4"
  }
 },
 "nbformat": 4,
 "nbformat_minor": 2
}
